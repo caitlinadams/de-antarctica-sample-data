{
 "cells": [
  {
   "cell_type": "markdown",
   "id": "e6c23ff4",
   "metadata": {},
   "source": [
    "# Loading GA Sentinel-1 Backscatter from a STAC endpoint"
   ]
  },
  {
   "cell_type": "markdown",
   "id": "f8304c9d",
   "metadata": {},
   "source": [
    "## Imports"
   ]
  },
  {
   "cell_type": "code",
   "execution_count": null,
   "id": "35412581",
   "metadata": {},
   "outputs": [],
   "source": [
    "from pystac_client import Client\n",
    "from odc.stac import load, configure_s3_access\n",
    "from odc.geo import BoundingBox\n",
    "import numpy as np"
   ]
  },
  {
   "cell_type": "markdown",
   "id": "c9b1a4a9",
   "metadata": {},
   "source": [
    "## Connect to Digital Earth development STAC endpoint"
   ]
  },
  {
   "cell_type": "code",
   "execution_count": null,
   "id": "9da60778",
   "metadata": {},
   "outputs": [],
   "source": [
    "catalog = \"https://explorer.dev.dea.ga.gov.au/stac\"\n",
    "\n",
    "stac_client = Client.open(catalog)\n",
    "\n",
    "configure_s3_access(\n",
    "    cloud_defaults=True, \n",
    "    aws_unsigned=True,\n",
    ")"
   ]
  },
  {
   "cell_type": "markdown",
   "id": "5e0f5544",
   "metadata": {},
   "source": [
    "## View available collections"
   ]
  },
  {
   "cell_type": "code",
   "execution_count": null,
   "id": "0b0c7886",
   "metadata": {},
   "outputs": [],
   "source": [
    "results = stac_client.collection_search(q=\"ga_s1*\")\n",
    "\n",
    "collections = [result.id for result in results.collection_list()]\n",
    "\n",
    "collections"
   ]
  },
  {
   "cell_type": "markdown",
   "id": "a00001b9",
   "metadata": {},
   "source": [
    "## Searching and Loading\n",
    "\n",
    "This section provides examples for both Australia and Antarctica, as there are some differences between the two:\n",
    "\n",
    "| Property | Australia | Antarctica |\n",
    "| --- | ----------- | ----------- |\n",
    "| Primary capture mode | VV+VH | HH |\n",
    "| Recommended CRS (metres) | UTM or EPSG:3577 | EPSG:3031 |\n",
    "| Group by method | Solar day | Scene ID |\n"
   ]
  },
  {
   "cell_type": "markdown",
   "id": "2a46fb4b",
   "metadata": {},
   "source": [
    "### Australia\n",
    "\n",
    "Here, we use a bounding box over Lake Sorell and Lake Crescent in Tasmania, and a date range of June 2020 through mid-July 2020."
   ]
  },
  {
   "cell_type": "code",
   "execution_count": null,
   "id": "0db28cb5",
   "metadata": {},
   "outputs": [],
   "source": [
    "aus_bbox = BoundingBox(\n",
    "    left=147.07251,\n",
    "    bottom=-42.22120,\n",
    "    right=147.24274,\n",
    "    top=-42.03035,\n",
    "    crs=\"EPSG:4326\"\n",
    ")\n",
    "\n",
    "aus_start_date = \"2020-06-01\"\n",
    "aus_end_date = \"2020-07-15\""
   ]
  },
  {
   "cell_type": "markdown",
   "id": "b0378dd8",
   "metadata": {},
   "source": [
    "The first step is to search for all observations that match these criteria, referred to as items in STAC. "
   ]
  },
  {
   "cell_type": "code",
   "execution_count": null,
   "id": "639c573c",
   "metadata": {},
   "outputs": [],
   "source": [
    "collections_query = collections\n",
    "aus_date_query = f\"{aus_start_date}/{aus_end_date}\"\n",
    "aus_bbox_query = aus_bbox.bbox\n",
    "\n",
    "aus_items = stac_client.search(\n",
    "    collections=collections_query,\n",
    "    datetime=aus_date_query,\n",
    "    bbox=aus_bbox_query\n",
    ").item_collection()\n",
    "\n",
    "print(f\"Found {len(aus_items)} items\")"
   ]
  },
  {
   "cell_type": "markdown",
   "id": "bf5340af",
   "metadata": {},
   "source": [
    "When working with GA's Sentinel-1 products, each item corresponds to a single burst, which is a subset of a scene.\n",
    "The items contain the full STAC metadata, so information can be extracted from the properties.\n",
    "For example, below demonstrates the number of unique scenes that the 33 bursts come from:"
   ]
  },
  {
   "cell_type": "code",
   "execution_count": null,
   "id": "44ca6dc3",
   "metadata": {},
   "outputs": [],
   "source": [
    "unique_scenes = set([item.properties[\"nrb:source_id\"][0] for item in aus_items])\n",
    "\n",
    "print(f\"The identified items come from {len(unique_scenes)} unique scenes\")"
   ]
  },
  {
   "cell_type": "markdown",
   "id": "ffe575da",
   "metadata": {},
   "source": [
    "Once the items have been identified, we use `odc-stac` to load them. \n",
    "With the `odc-stac` `load` command, you can specify:\n",
    "\n",
    "* `crs`: the coordinate reference system (CRS) to project loaded data to. If not specified, the data's native CRS will be used.\n",
    "* `resolution`: the resolution to load the data at, in the same units as the chosen CRS. If not specified, the data's native resolution will be used.\n",
    "* `intersects`: a bounding box to clip the loaded data to. If not specified, the whole item will be loaded.\n",
    "* `bands`: the measurements to load from the data (e.g. VV). If not specified, all measurements will be loaded.\n",
    "* `groupby`: how to group loaded data. For Australia, the value `solar_day` will ensure all bursts captured on the same day are grouped together under one time-stamp.\n",
    "* `chunks={}`: request that the data be lazily loaded - an xarray showing the expected dimensions and measurements will be returned. Data will be computed when used. If not specified, data will be loaded into memory. \n",
    "\n",
    "> **Note:** When selecting a CRS for data over Australia, we recommend \"utm\" or \"EPSG:3577\" to get data back in a coordinate system that uses metres. \"utm\" will return the UTM projection that is most appropriate given the bounding box of the data. If loading data over large portions of Australia, Australian Albers (EPSG:3577) or another CRS may be more appropriate."
   ]
  },
  {
   "cell_type": "code",
   "execution_count": null,
   "id": "ce758738",
   "metadata": {},
   "outputs": [],
   "source": [
    "# Lazy load our filtered data\n",
    "aus_ds = load(\n",
    "    aus_items,\n",
    "    crs=\"utm\",\n",
    "    resolution=20,\n",
    "    intersects=aus_bbox.boundary(),\n",
    "    bands=[\"VV\", \"VH\", \"mask\"],\n",
    "    groupby=\"solar_day\",\n",
    "    chunks={},\n",
    ")\n",
    "\n",
    "aus_ds"
   ]
  },
  {
   "cell_type": "markdown",
   "id": "390820af",
   "metadata": {},
   "source": [
    "### Antarctica\n",
    "\n",
    "Here, we use a bounding box over Canada Glacier in eastern Antarctica, with a date range of June 2018 through July 2018."
   ]
  },
  {
   "cell_type": "code",
   "execution_count": null,
   "id": "f4192273",
   "metadata": {},
   "outputs": [],
   "source": [
    "ant_bbox = BoundingBox(\n",
    "    left=162.8555,\n",
    "    bottom=-77.6376,\n",
    "    right=163.0801,\n",
    "    top=-77.5813,\n",
    "    crs=\"EPSG:4326\"\n",
    ")\n",
    "\n",
    "ant_start_date = \"2018-06-01\"\n",
    "ant_end_date = \"2018-07-31\""
   ]
  },
  {
   "cell_type": "markdown",
   "id": "25d563fc",
   "metadata": {},
   "source": [
    "The first step is to search for all observations that match these criteria, referred to as items in STAC. "
   ]
  },
  {
   "cell_type": "code",
   "execution_count": null,
   "id": "c39cb24b",
   "metadata": {},
   "outputs": [],
   "source": [
    "collections_query = collections\n",
    "ant_date_query = f\"{ant_start_date}/{ant_end_date}\"\n",
    "ant_bbox_query = ant_bbox.bbox\n",
    "\n",
    "ant_items = stac_client.search(\n",
    "    collections=collections_query,\n",
    "    datetime=ant_date_query,\n",
    "    bbox=ant_bbox_query\n",
    ").item_collection()\n",
    "\n",
    "print(f\"Found {len(ant_items)} items\")"
   ]
  },
  {
   "cell_type": "markdown",
   "id": "a132c573",
   "metadata": {},
   "source": [
    "When working with GA's Sentinel-1 products, each item corresponds to a single burst, which is a subset of a scene.\n",
    "The items contain the full STAC metadata, so information can be extracted from the properties.\n",
    "For example, below demonstrates the number of unique scenes that the 10 bursts come from:"
   ]
  },
  {
   "cell_type": "code",
   "execution_count": null,
   "id": "b3bee8a8",
   "metadata": {},
   "outputs": [],
   "source": [
    "unique_scenes = set([item.properties[\"nrb:source_id\"][0] for item in ant_items])\n",
    "\n",
    "print(f\"The identified items come from {len(unique_scenes)} unique scenes\")"
   ]
  },
  {
   "cell_type": "markdown",
   "id": "339d05bb",
   "metadata": {},
   "source": [
    "Once the items have been identified, we use `odc-stac` to load them. \n",
    "With the `odc-stac` `load` command, you can specify:\n",
    "\n",
    "* `crs`: the coordinate reference system (CRS) to project loaded data to. If not specified, the data's native CRS will be used.\n",
    "* `resolution`: the resolution to load the data at, in the same units as the chosen CRS. If not specified, the data's native resolution will be used.\n",
    "* `intersects`: a bounding box to clip the loaded data to. If not specified, the whole item will be loaded.\n",
    "* `bands`: the measurements to load from the data (e.g. HH). If not specified, all measurements will be loaded.\n",
    "* `groupby`: how to group loaded data. For Antarctica, the value `nrb:source_id` will ensure all bursts captured within a scene are grouped together under one time-stamp.\n",
    "* `chunks={}`: request that the data be lazily loaded - an xarray showing the expected dimensions and measurements will be returned. Data will be computed when used. If not specified, data will be loaded into memory. \n",
    "\n",
    "> **Note:** When selecting a CRS for data over Antarctica, we recommend \"EPSG:3031\", which matches the data's native projection."
   ]
  },
  {
   "cell_type": "code",
   "execution_count": null,
   "id": "1e9966ec",
   "metadata": {},
   "outputs": [],
   "source": [
    "# Lazy load our filtered data\n",
    "ant_ds = load(\n",
    "    ant_items,\n",
    "    crs=\"EPSG:3031\",\n",
    "    resolution=20,\n",
    "    intersects=ant_bbox.boundary(),\n",
    "    bands=[\"HH\", \"mask\"],\n",
    "    groupby=\"nrb:source_id\",\n",
    "    chunks={},\n",
    ")\n",
    "\n",
    "ant_ds"
   ]
  },
  {
   "cell_type": "markdown",
   "id": "876cbda2",
   "metadata": {},
   "source": [
    "## Loading data in memory\n",
    "\n",
    "Once you have decided you are happy with the area of interest, crs, resolution, bands, etc., you can load data into memory using xarray's `.compute` operation. \n",
    "\n",
    "This is valuable once you are ready to apply transformations to the data, or wish to visualise the data, as it will save needing to read the data into memory every time."
   ]
  },
  {
   "cell_type": "code",
   "execution_count": null,
   "id": "c5e94ae0",
   "metadata": {},
   "outputs": [],
   "source": [
    "aus_ds = aus_ds.compute()\n",
    "ant_ds = ant_ds.compute()"
   ]
  },
  {
   "cell_type": "markdown",
   "id": "a02399a0",
   "metadata": {},
   "source": [
    "## Transforming and visualising loaded data\n",
    "\n",
    "The GA Sentinel-1 backscatter products are provided as linear gamma0 values. \n",
    "It is common to apply some transformations, such as speckle filtering, and converting from linear scale to decibels. \n",
    "Converting to other measurements conventions (e.g. sigma0 and beta0) is not currently available.\n",
    "If you need these measurement conventions for your work, please contact Earth.Observation@ga.gov.au and ask to have your email sent to the Digital Earth Antarctica team."
   ]
  },
  {
   "cell_type": "markdown",
   "id": "3492a9f0",
   "metadata": {},
   "source": [
    "## Visualising\n",
    "\n",
    "To see the full timeseries for a particular band, the following plotting command can be used:"
   ]
  },
  {
   "cell_type": "markdown",
   "id": "1b79f7b7",
   "metadata": {},
   "source": [
    "### Australia\n",
    "\n",
    "The dark areas are the two lakes."
   ]
  },
  {
   "cell_type": "code",
   "execution_count": null,
   "id": "b5643f99",
   "metadata": {},
   "outputs": [],
   "source": [
    "aus_ds['VV'].plot.imshow(col=\"time\", col_wrap=3, robust=True, cmap=\"Greys_r\")"
   ]
  },
  {
   "cell_type": "markdown",
   "id": "d4b17aa8",
   "metadata": {},
   "source": [
    "### Antarctica\n",
    "The dark area corresponds to the glacier.\n",
    "The bright segments are likely due to layover as there is significant terrain in this region."
   ]
  },
  {
   "cell_type": "code",
   "execution_count": null,
   "id": "886c6e90",
   "metadata": {},
   "outputs": [],
   "source": [
    "ant_ds['HH'].plot.imshow(col=\"time\", col_wrap=3, robust=True, cmap=\"Greys_r\")"
   ]
  },
  {
   "cell_type": "markdown",
   "id": "7070c171",
   "metadata": {},
   "source": [
    "## Masking\n",
    "\n",
    "The GA Sentinel-1 backscatter product comes with a mask that indicates invalid pixels, along with pixels impacted by layover and shadow. \n",
    "\n",
    "The masks have the following values:\n",
    "| Value | Property |\n",
    "| --- | ----------- |\n",
    "| 0 | Valid | \n",
    "| 1 | Shadow |\n",
    "| 2 | Layover |\n",
    "| 3 | Shadow and layover |\n",
    "| 255 / NaN | Invalid |\n",
    "\n",
    "The following code displays the masks and shows how to apply them."
   ]
  },
  {
   "cell_type": "markdown",
   "id": "2179967d",
   "metadata": {},
   "source": [
    "### Australia\n",
    "\n",
    "Viewing the mask for the first timestep, there is very little layover or shadow in this area. \n",
    "This is consistent with there not being much terrain in the chosen area."
   ]
  },
  {
   "cell_type": "code",
   "execution_count": null,
   "id": "f469ee11",
   "metadata": {},
   "outputs": [],
   "source": [
    "aus_ds[\"mask\"].isel(time=0).plot.imshow(\n",
    "    levels=[-0.5, 0.5, 1.5, 2.5, 3.5], \n",
    "    cbar_kwargs={'ticks': [0, 1, 2, 3]}\n",
    ")"
   ]
  },
  {
   "cell_type": "markdown",
   "id": "0feacd15",
   "metadata": {},
   "source": [
    "#### Applying the mask"
   ]
  },
  {
   "cell_type": "code",
   "execution_count": null,
   "id": "4a6dba65",
   "metadata": {},
   "outputs": [],
   "source": [
    "aus_ds[\"VV_masked\"] = aus_ds.VV.where(aus_ds.mask==0, np.nan)\n",
    "aus_ds[\"VV_masked\"].isel(time=0).plot.imshow(robust=True)"
   ]
  },
  {
   "cell_type": "markdown",
   "id": "4964a62c",
   "metadata": {},
   "source": [
    "### Antarctica\n",
    "\n",
    "Viewing the mask for the first timestep, there is significant layover in this area, and a little shadow. \n",
    "This is consistent with there being signifiant terrain in the chosen area."
   ]
  },
  {
   "cell_type": "code",
   "execution_count": null,
   "id": "3f672bb0",
   "metadata": {},
   "outputs": [],
   "source": [
    "ant_ds[\"mask\"].isel(time=0).plot.imshow(\n",
    "    levels=[-0.5, 0.5, 1.5, 2.5, 3.5], \n",
    "    cbar_kwargs={'ticks': [0, 1, 2, 3]}\n",
    ")"
   ]
  },
  {
   "cell_type": "markdown",
   "id": "67360923",
   "metadata": {},
   "source": [
    "#### Applying the mask"
   ]
  },
  {
   "cell_type": "code",
   "execution_count": null,
   "id": "5d516dbb",
   "metadata": {},
   "outputs": [],
   "source": [
    "ant_ds[\"HH_masked\"] = ant_ds.HH.where(ant_ds.mask==0, np.nan)\n",
    "ant_ds[\"HH_masked\"].isel(time=0).plot.imshow(robust=True)"
   ]
  },
  {
   "cell_type": "markdown",
   "id": "634c6c79",
   "metadata": {},
   "source": [
    "### Speckle filtering\n",
    "\n",
    "Speckle filtering aims to reduce noise present in SAR images.\n",
    "One filter that is commonly applied is the Lee filter.\n",
    "We have supplied a python file that contains the Lee filter definition, as well as a function to apply it to xarrays."
   ]
  },
  {
   "cell_type": "code",
   "execution_count": null,
   "id": "754becb6",
   "metadata": {},
   "outputs": [],
   "source": [
    "from speckle_filters import apply_lee_filter"
   ]
  },
  {
   "cell_type": "code",
   "execution_count": null,
   "id": "cbab2e04",
   "metadata": {},
   "outputs": [],
   "source": [
    "aus_ds[\"VV_filtered\"] = apply_lee_filter(aus_ds[\"VV\"])\n",
    "\n",
    "aus_ds"
   ]
  }
 ],
 "metadata": {
  "kernelspec": {
   "display_name": "default",
   "language": "python",
   "name": "python3"
  },
  "language_info": {
   "codemirror_mode": {
    "name": "ipython",
    "version": 3
   },
   "file_extension": ".py",
   "mimetype": "text/x-python",
   "name": "python",
   "nbconvert_exporter": "python",
   "pygments_lexer": "ipython3",
   "version": "3.13.3"
  }
 },
 "nbformat": 4,
 "nbformat_minor": 5
}
