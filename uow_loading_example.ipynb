{
 "cells": [
  {
   "cell_type": "markdown",
   "id": "8a8040eb",
   "metadata": {},
   "source": [
    "# Loading SAR data with odc-stac"
   ]
  },
  {
   "cell_type": "markdown",
   "id": "d00bb78d",
   "metadata": {},
   "source": [
    "## Imports"
   ]
  },
  {
   "cell_type": "code",
   "execution_count": null,
   "id": "ccb3c108",
   "metadata": {},
   "outputs": [],
   "source": [
    "from pystac_client import Client\n",
    "from odc.stac import load, configure_s3_access\n",
    "from odc.geo import BoundingBox\n",
    "import numpy as np\n",
    "import xarray as xr"
   ]
  },
  {
   "cell_type": "markdown",
   "id": "9162255a",
   "metadata": {},
   "source": [
    "## Connect to Digital Earth development STAC catalog"
   ]
  },
  {
   "cell_type": "code",
   "execution_count": null,
   "id": "357c7f7d",
   "metadata": {},
   "outputs": [],
   "source": [
    "catalog = \"https://explorer.dev.dea.ga.gov.au/stac\"\n",
    "\n",
    "stac_client = Client.open(catalog)"
   ]
  },
  {
   "cell_type": "code",
   "execution_count": null,
   "id": "cfe33ac4",
   "metadata": {},
   "outputs": [],
   "source": [
    "configure_s3_access(\n",
    "    cloud_defaults=True,\n",
    "    aws_unsigned=True,\n",
    ")"
   ]
  },
  {
   "cell_type": "markdown",
   "id": "9e1edad9",
   "metadata": {},
   "source": [
    "## Define area of interest and date range"
   ]
  },
  {
   "cell_type": "code",
   "execution_count": null,
   "id": "b89b939f",
   "metadata": {},
   "outputs": [],
   "source": [
    "bbox = BoundingBox(\n",
    "    left=162.994,\n",
    "    bottom=-77.618,\n",
    "    right=163.081,\n",
    "    top=-77.606,\n",
    "    crs=\"EPSG:4326\"\n",
    ")\n",
    "\n",
    "start_date = \"2023-05-01\"\n",
    "end_date = \"2023-07-01\""
   ]
  },
  {
   "cell_type": "markdown",
   "id": "a1022d12",
   "metadata": {},
   "source": [
    "## Find STAC items and load into xarray"
   ]
  },
  {
   "cell_type": "code",
   "execution_count": null,
   "id": "4de97031",
   "metadata": {},
   "outputs": [],
   "source": [
    "collections_query = [\"ga_s1_rtc_backscatter_experimental\"]\n",
    "date_query = f\"{start_date}/{end_date}\"\n",
    "bbox_query = bbox.bbox\n",
    "\n",
    "items = stac_client.search(\n",
    "    collections=collections_query,\n",
    "    datetime=date_query,\n",
    "    bbox=bbox_query\n",
    ").item_collection()\n",
    "\n",
    "print(f\"Found {len(items)} items\")"
   ]
  },
  {
   "cell_type": "code",
   "execution_count": null,
   "id": "0545c8f1",
   "metadata": {},
   "outputs": [],
   "source": [
    "# Load our filtered data\n",
    "ds = load(\n",
    "    items,\n",
    "    crs=\"EPSG:3031\",\n",
    "    chunks={},\n",
    "    resolution=20,\n",
    "    groupby=\"solar_day\",\n",
    "    intersects=bbox.boundary(),\n",
    ").compute()\n",
    "\n",
    "ds"
   ]
  },
  {
   "cell_type": "code",
   "execution_count": null,
   "id": "331b0a69",
   "metadata": {},
   "outputs": [],
   "source": [
    "ds[\"HH\"].plot.imshow(col=\"time\", col_wrap=3, robust=True, cmap=\"Greys_r\")"
   ]
  },
  {
   "cell_type": "markdown",
   "id": "3859fc0f",
   "metadata": {},
   "source": [
    "## Convert from linear to dB"
   ]
  },
  {
   "cell_type": "code",
   "execution_count": null,
   "id": "38420691",
   "metadata": {},
   "outputs": [],
   "source": [
    "ds['HH_db'] = 10 * np.log10(ds[\"HH\"])\n",
    "\n",
    "ds['HH_db'].plot.imshow(col=\"time\", col_wrap=3, robust=True, cmap=\"Greys_r\")"
   ]
  },
  {
   "cell_type": "markdown",
   "id": "37ddcdd7",
   "metadata": {},
   "source": [
    "## Speckle filtering"
   ]
  },
  {
   "cell_type": "code",
   "execution_count": null,
   "id": "39c21e21",
   "metadata": {},
   "outputs": [],
   "source": [
    "# Adapted from https://stackoverflow.com/questions/39785970/speckle-lee-filter-in-python\n",
    "from scipy.ndimage import uniform_filter\n",
    "\n",
    "def lee_filter(img, size):\n",
    "    \"\"\"\n",
    "    Applies the Lee filter to reduce speckle noise in an image.\n",
    "\n",
    "    Parameters:\n",
    "    img (ndarray): Input image to be filtered.\n",
    "    size (int): Size of the uniform filter window.\n",
    "\n",
    "    Returns:\n",
    "    ndarray: The filtered image.\n",
    "    \"\"\"\n",
    "    img_mean = uniform_filter(img, size)\n",
    "    img_sqr_mean = uniform_filter(img**2, size)\n",
    "    img_variance = img_sqr_mean - img_mean**2\n",
    "\n",
    "    overall_variance = np.var(img)\n",
    "\n",
    "    img_weights = img_variance / (img_variance + overall_variance)\n",
    "    img_output = img_mean + img_weights * (img - img_mean)\n",
    "    return img_output"
   ]
  },
  {
   "cell_type": "code",
   "execution_count": null,
   "id": "0f3825bf",
   "metadata": {},
   "outputs": [],
   "source": [
    "# Define a function to apply the Lee filter to a DataArray\n",
    "def apply_lee_filter(data_array, size=7):\n",
    "    \"\"\"\n",
    "    Applies the Lee filter to the provided DataArray.\n",
    "\n",
    "    Parameters:\n",
    "    data_array (xarray.DataArray): The data array to be filtered.\n",
    "    size (int): Size of the uniform filter window. Default is 7.\n",
    "\n",
    "    Returns:\n",
    "    xarray.DataArray: The filtered data array.\n",
    "    \"\"\"\n",
    "    data_array_filled = data_array.fillna(0)\n",
    "    filtered_data = xr.apply_ufunc(\n",
    "        lee_filter, data_array_filled,\n",
    "        kwargs={\"size\": size},\n",
    "        input_core_dims=[[\"y\", \"x\"]],\n",
    "        output_core_dims=[[\"y\", \"x\"]],\n",
    "        dask_gufunc_kwargs={\"allow_rechunk\": True},\n",
    "        vectorize=True,\n",
    "        dask=\"parallelized\",\n",
    "        output_dtypes=[data_array.dtype]\n",
    "    )\n",
    "    return filtered_data"
   ]
  },
  {
   "cell_type": "code",
   "execution_count": null,
   "id": "dedf54d5",
   "metadata": {},
   "outputs": [],
   "source": [
    "ds[\"HH_dB_filtered\"] = apply_lee_filter(ds.HH_db, size = 7)\n",
    "\n",
    "ds['HH_dB_filtered'].plot.imshow(col=\"time\", col_wrap=3, robust=True, cmap=\"Greys_r\")"
   ]
  },
  {
   "cell_type": "markdown",
   "id": "79ac23ca",
   "metadata": {},
   "source": [
    "## View images"
   ]
  },
  {
   "cell_type": "code",
   "execution_count": null,
   "id": "0913ceeb",
   "metadata": {},
   "outputs": [],
   "source": [
    "ds['HH_dB_filtered'].isel(time=0).odc.explore(robust=True, cmap=\"Greys_r\")"
   ]
  },
  {
   "cell_type": "markdown",
   "id": "2169a513",
   "metadata": {},
   "source": [
    "## Export images"
   ]
  },
  {
   "cell_type": "code",
   "execution_count": null,
   "id": "b5a647ea",
   "metadata": {},
   "outputs": [],
   "source": [
    "ds['HH_dB_filtered'].isel(time=0).odc.write_cog(\"sentinel1_example.tif\", overwrite=True)"
   ]
  }
 ],
 "metadata": {
  "kernelspec": {
   "display_name": "default",
   "language": "python",
   "name": "python3"
  },
  "language_info": {
   "codemirror_mode": {
    "name": "ipython",
    "version": 3
   },
   "file_extension": ".py",
   "mimetype": "text/x-python",
   "name": "python",
   "nbconvert_exporter": "python",
   "pygments_lexer": "ipython3",
   "version": "3.13.3"
  }
 },
 "nbformat": 4,
 "nbformat_minor": 5
}
